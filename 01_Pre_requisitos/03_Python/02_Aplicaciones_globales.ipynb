{
 "cells": [
  {
   "cell_type": "markdown",
   "metadata": {},
   "source": [
    "# Como crear aplicaciones globales en Linux y python\n",
    "\n",
    "Este documento es solo un recordatorio de que ruta es donde está las aplicaciones o los scripts creados por mi mismo, pero en este momento solo me centraré en aplicaciones hechas con python.\n",
    "\n",
    "- Para saber las variables de entorno o las rutas donde las aplicaciones son guardadas, escribe en consola `echo $PATH`\n",
    "- Concretamente la ruta donde se encuentra mis aplicaciones es: `cd /etc/local/bin/`\n",
    "- Si voy a crear una aplicacion ya empaquetada, es mejor hacer un ejecutable todo en uno **one-file** con **pyinstaller**\n",
    "- Si solo va a ser un script de python, recuerda que la primera linea debe tener `#!/usr/bin/env python3` y `chmod 777`\n",
    "- Si se va a integrar algun comando en el explorador de archivos **Thunar** y este comando es una aplicacion que pide interaccion por parte del usuario, es mejor crearle una interfaz de usuario con tkinter, sino un script con nombre_propio.py que haga sus cosas en silencio.\n",
    "- En caso de ser un asistente por consola, como el caso de palm.py o gpt.py es mejor no incluirlo en el *Thunar*\n",
    "- Todas estas herramientas deben tener un repositorio de github, para ser recuperadas por si acaso llega a estropearse el sistema operativo, debe tener el código fuente y este código deberá tener las mejores practicas posibles."
   ]
  }
 ],
 "metadata": {
  "language_info": {
   "name": "python"
  }
 },
 "nbformat": 4,
 "nbformat_minor": 2
}
