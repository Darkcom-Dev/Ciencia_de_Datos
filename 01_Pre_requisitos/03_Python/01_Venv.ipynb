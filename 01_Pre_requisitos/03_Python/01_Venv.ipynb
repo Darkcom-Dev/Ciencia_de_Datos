{
 "cells": [
  {
   "cell_type": "markdown",
   "metadata": {},
   "source": [
    "# Anotaciones sobre .venv\n",
    "\n",
    "Esta libreria sirve para crear **ambientes de trabajo**, es como un docker a lo python, estos ambientes de trabajo es **una buena practica** para **preservar la compatibilidad** entre librerias y la version de python en especifico, Funciona aislando la version principal de python instalada dentro del sistema operativo de la version python instalada en el ambiente virtual.\n",
    "\n",
    "- Se recomienda crear una carpeta principal llamado Ambientes, para no ir dispersando maquinas virtuales a lo loco en todo el sistema operativo.\n",
    "- Para crear un ambiente virtual `python -m venv web` donde web es el nombre del ambiente, pero este ambiente no está activo aun\n",
    "- Entra en la carpeta web creada por el ambiente virtual, dentro deberá verse un script ejecutable llamado **activate**\n",
    "- en la terminal deberas ver la consola con este nombre `(web) ~/python/**` lo importante es notar que empieza con la palabra **(web)**\n",
    "- Para instalar una libreria dentro del ambiente virtual `python -m pip install libreria`\n",
    "- Para desactivar el ambiente virtual ejecuta el script **deactivate**\n",
    "- Para eliminar un ambiente virtual simplemente elimina la carpeta del ambiente virtual o `rmdir /s web`\n",
    "\n",
    "```\n",
    "mi_proyecto/\n",
    "├── web/                  # Directorio del entorno virtual \"web\"\n",
    "│   ├── bin/              # Contiene los ejecutables del entorno virtual\n",
    "│   ├── include/\n",
    "│   ├── lib/\n",
    "│   └── ...\n",
    "├── scripts/              # Directorio para tus scripts de Python\n",
    "│   ├── script1.py\n",
    "│   ├── script2.py\n",
    "│   └── ...\n",
    "├── requirements.txt      # Archivo para especificar las dependencias\n",
    "├── README.md             # Documentación de tu proyecto\n",
    "├── ...\n",
    "```\n",
    "\n"
   ]
  },
  {
   "cell_type": "code",
   "execution_count": null,
   "metadata": {},
   "outputs": [],
   "source": [
    "# Creando un script que automatiza la creacion de un proyecto\n",
    "import os\n",
    "import subprocess\n",
    "\n",
    "def create_project(project_name):\n",
    "    # Crear un directorio para el proyecto\n",
    "    os.makedirs(project_name)\n",
    "    os.chdir(project_name)\n",
    "\n",
    "    # Crear un entorno virtual\n",
    "    subprocess.run(['python', '-m', 'venv', 'venv'])\n",
    "\n",
    "    # Crear un archivo main.py\n",
    "    with open('main.py', 'w') as main_file:\n",
    "        main_file.write(\"# Tu código principal va aquí\\n\")\n",
    "\n",
    "    # Crear un archivo requirements.txt (puedes personalizar las dependencias)\n",
    "    with open('requirements.txt', 'w') as requirements_file:\n",
    "        requirements_file.write(\"\")\n",
    "\n",
    "    # Crear un archivo README.md\n",
    "    with open('README.md', 'w') as readme_file:\n",
    "        readme_file.write(f\"# {project_name}\\n\\nDescripción de tu proyecto.\\n\")\n",
    "\n",
    "    # Inicializar un repositorio Git\n",
    "    subprocess.run(['git', 'init'])\n",
    "\n",
    "if __name__ == \"__main__\":\n",
    "    project_name = input(\"Nombre del proyecto: \")\n",
    "    create_project(project_name)\n",
    "    print(f\"Proyecto '{project_name}' creado con éxito.\")\n"
   ]
  }
 ],
 "metadata": {
  "language_info": {
   "name": "python"
  }
 },
 "nbformat": 4,
 "nbformat_minor": 2
}
