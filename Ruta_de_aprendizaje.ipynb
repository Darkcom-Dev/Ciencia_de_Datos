{
 "cells": [
  {
   "cell_type": "markdown",
   "metadata": {},
   "source": [
    "# Ciencia de Datos.\n",
    "\n",
    "## Indice\n",
    "- [Prerequisitos](#prerequisitos)\n",
    "- [Recopilacion de información](#recopilación-de-datos)\n",
    "- [Exploración de datos](#exploración-de-datos)\n",
    "- [Machine Learning](#machine-learning)\n",
    "- [Deep Learning](#deep-learning)"
   ]
  },
  {
   "cell_type": "markdown",
   "metadata": {},
   "source": [
    "## Prerequisitos.\n",
    "\n",
    "Esta sección se refiere a las areas del conocimiento que se deben saber previamente antes de abordar el tema del machine learning y deep learning.\n",
    "\n",
    "- [Estadistica](01_Pre_requisitos/01_Estadistica/Estadistica.ipynb)\n",
    "- [Algebra lineal](01_Pre_requisitos/02_Algebra_Lineal/algebra_lineal.ipynb)\n",
    "- Python"
   ]
  },
  {
   "cell_type": "markdown",
   "metadata": {},
   "source": [
    "## Recopilación de datos\n",
    "\n",
    "Los modelos de machine learning y deep learning se alimentan de datos, pero para obtenerlos es necesario aprender a usar y crear cada uno de los distintos formatos asi como recopilarlos y automatizar tareas con python para obtención masiva de datos mediante webscraping.\n",
    "\n",
    "- Bases de datos\n",
    "  - Relacionales\n",
    "  - No Relacionales\n",
    "- Expresiones Regulares\n",
    "- Automatización\n",
    "- Web Scrapping"
   ]
  },
  {
   "cell_type": "markdown",
   "metadata": {},
   "source": [
    "## Exploración de Datos\n",
    "\n",
    "Aqui entramos en el uso de librerias para la exploración de datos.\n",
    "- Pandas\n",
    "- Numpy\n",
    "- Matplotlib\n",
    "- Otros"
   ]
  },
  {
   "cell_type": "markdown",
   "metadata": {},
   "source": [
    "## Machine Learning\n",
    "\n",
    "Algunos scripts como ejemplos de entrenamiento\n",
    "- Algoritmos"
   ]
  },
  {
   "cell_type": "markdown",
   "metadata": {},
   "source": [
    "## Deep Learning\n",
    "\n",
    "Temas mas allá del machine learning\n",
    "\n",
    "- Neurona\n",
    "- Algoritmos\n",
    "- Librerias"
   ]
  }
 ],
 "metadata": {
  "language_info": {
   "name": "python"
  }
 },
 "nbformat": 4,
 "nbformat_minor": 2
}
