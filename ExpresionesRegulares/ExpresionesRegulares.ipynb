{
 "cells": [
  {
   "cell_type": "markdown",
   "metadata": {},
   "source": [
    " \n",
    "<table>\n",
    "<tr>\n",
    "<th>Nota</th><th>Descripción</th>\n",
    "<tr>\n",
    "<td>\\A</td><td>restringe la coincidencia al inicio de la cadena</td>\n",
    "<tr>\n",
    "<td>\\Z</td><td>restringe la coincidencia al final de la cadena</td>\n",
    "<tr>\n",
    "<td>re.sub(r‘pat', r'replace', s)</td><td>buscar y reemplazar</td>\n",
    "<tr>\n",
    "<td>\\n</td><td>separador de líneas, los archivos estilo DOS necesitan atención especial</td>\n",
    "<tr>\n",
    "<td>metacharacter</td><td>caracteres con significado especial en RE</td>\n",
    "<tr>\n",
    "<td>^</td><td>restringe el partido al inicio de la línea</td>\n",
    "<tr>\n",
    "<td>$</td><td>restringe el partido al final de la línea</td>\n",
    "<tr>\n",
    "<td>re.MULTILINE or re.M</td><td>bandera para tratar la entrada como una cadena multilínea</td>\n",
    "<tr>\n",
    "<td>\\b</td><td>restringe la coincidencia al inicio/final de las palabras, caracteres de palabras: alfabetos, dígitos, guiones bajos</td>\n",
    "<tr>\n",
    "<td>\\B</td><td>coincide donde \\b no coincide</td>\n",
    "</table>\n"
   ]
  },
  {
   "cell_type": "markdown",
   "metadata": {},
   "source": [
    " <table>\n",
    " <tr>\n",
    " <th>Nota</th><th>Descripción</th>\n",
    " <tr>\n",
    " <td>|</td><td>múltiples RE combinados como condicional OR cada alternativa puede tener anclajes independientes</td>\n",
    " <tr>\n",
    " <td>`|.join(iterable)`</td><td>combinar programáticamente múltiples RE</td>\n",
    " <tr>\n",
    " <td>()</td><td>agrupar patrones</td>\n",
    " <tr>\n",
    " <td>a(b|c)d</td><td>Lo mismo que abd|acd</td>\n",
    " <tr>\n",
    " <td>Alternation precedence</td><td>\n",
    " <ul>\n",
    " <li> El patrón que coincide primero en la entrada tiene prioridad.\n",
    " <li>el desempate es de izquierda a derecha si los patrones tienen la misma ubicación inicial\n",
    "<li>solución robusta: clasifique las alternancias según la longitud, la más larga primero\n",
    "<li>*|*.join(ordenado(iterable, clave=len, reverso=Verdadero))\n",
    " </ul>\n",
    "\n",
    "\n",
    "\n",
    "</td>\n",
    " </table>\n"
   ]
  }
 ],
 "metadata": {
  "language_info": {
   "name": "python"
  }
 },
 "nbformat": 4,
 "nbformat_minor": 2
}
