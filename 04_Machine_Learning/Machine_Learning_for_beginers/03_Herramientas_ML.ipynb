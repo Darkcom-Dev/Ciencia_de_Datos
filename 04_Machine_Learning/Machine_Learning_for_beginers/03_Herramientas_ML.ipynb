{
 "cells": [
  {
   "cell_type": "markdown",
   "metadata": {},
   "source": [
    "THE ML TOOLBOX\n",
    "A handy way to learn a new subject area is to map and visualize the essential\n",
    "materials and tools inside a toolbox.\n",
    "If you were packing a toolbox to build websites, for example, you would first\n",
    "pack a selection of programming languages. This would include frontend\n",
    "languages such as HTML, CSS, and JavaScript, one or two backend\n",
    "programming languages based on personal preferences, and of course, a text\n",
    "editor. You might throw in a website builder such as WordPress and then\n",
    "have another compartment filled with web hosting, DNS, and maybe a few\n",
    "domain names that you’ve recently purchased.\n",
    "This is not an extensive inventory, but from this general list, you can start to\n",
    "gain a better appreciation of what tools you need to master in order to\n",
    "become a successful website developer.\n",
    "Let’s now unpack the toolbox for machine learning."
   ]
  },
  {
   "cell_type": "markdown",
   "metadata": {},
   "source": [
    "Compartment 1: Data\n",
    "In the first compartment is your data. Data constitutes the input variables\n",
    "needed to form a prediction. Data comes in many forms, including structured\n",
    "and non-structured data. As a beginner, it is recommended that you start with\n",
    "structured data. This means that the data is defined and labeled (with\n",
    "schema) in a table, as shown here:"
   ]
  },
  {
   "cell_type": "markdown",
   "metadata": {},
   "source": [
    "Tabla bitcoin vs dias transpirados"
   ]
  },
  {
   "cell_type": "markdown",
   "metadata": {},
   "source": [
    "Before we proceed, I first want to explain the anatomy of a tabular dataset. A\n",
    "tabular (table-based) dataset contains data organized in rows and columns. In\n",
    "each column is a feature. A feature is also known as a variable, a dimension\n",
    "or an attribute—but they all mean the same thing.\n",
    "Each individual row represents a single observation of a given\n",
    "feature/variable. Rows are sometimes referred to as a case or value, but in\n",
    "this book, we will use the term “row.”"
   ]
  },
  {
   "cell_type": "markdown",
   "metadata": {},
   "source": [
    "Figure 1: Example of a tabular dataset"
   ]
  },
  {
   "cell_type": "markdown",
   "metadata": {},
   "source": [
    "Each column is known as a vector. Vectors store your X and y values and\n",
    "multiple vectors (columns) are commonly referred to as matrices. In the case\n",
    "of supervised learning, y will already exist in your dataset and be used to\n",
    "identify patterns in relation to independent variables (X). The y values are\n",
    "commonly expressed in the final column, as shown in Figure 2."
   ]
  },
  {
   "cell_type": "markdown",
   "metadata": {},
   "source": [
    "Figure 2: The y value is often but not always expressed in the far right column"
   ]
  },
  {
   "cell_type": "markdown",
   "metadata": {},
   "source": [
    "Next, within the first compartment of the toolbox is a range of scatterplots,\n",
    "including 2-D, 3-D, and 4-D plots. A 2-D scatterplot consists of a vertical\n",
    "axis (known as the y-axis) and a horizontal axis (known as the x-axis) and\n",
    "provides the graphical canvas to plot a series of dots, known as data points.\n",
    "Each data point on the scatterplot represents one observation from the dataset,\n",
    "with X values plotted on the x-axis and y values plotted on the y-axis."
   ]
  },
  {
   "cell_type": "markdown",
   "metadata": {},
   "source": [
    "Tabla Variable independiente vs Variable dependiente"
   ]
  },
  {
   "cell_type": "markdown",
   "metadata": {},
   "source": [
    "Compartment 2: Infrastructure\n",
    "The second compartment of the toolbox contains your infrastructure, which\n",
    "consists of platforms and tools to process data. As a beginner to machine\n",
    "learning, you are likely to be using a web application (such as Jupyter\n",
    "Notebook) and a programming language like Python. There are then a series\n",
    "of machine learning libraries, including NumPy, Pandas, and Scikit-learn that\n",
    "are compatible with Python. Machine learning libraries are a collection of\n",
    "pre-compiled programming routines frequently used in machine learning.\n",
    "You will also need a machine from which to work, in the form of a computer\n",
    "or a virtual server. In addition, you may need specialized libraries for data\n",
    "visualization such as Seaborn and Matplotlib, or a standalone software\n",
    "program like Tableau, which supports a range of visualization\n",
    "techniques including charts, graphs, maps, and other visual options.\n",
    "With your infrastructure sprayed out across the table (hypothetically of\n",
    "course), you are now ready to get to work building your first machine\n",
    "learning model. The first step is to crank up your computer. Laptops and\n",
    "desktop computers are both suitable for working with smaller datasets. You\n",
    "will then need to install a programming environment, such as Jupyter\n",
    "Notebook, and a programming language, which for most beginners is Python.\n",
    "Python is the most widely used programming language for machine learning\n",
    "because:\n",
    "a) It is easy to learn and operate,\n",
    "b) It is compatible with a range of machine learning libraries, and\n",
    "c) It can be used for related tasks, including data collection (web\n",
    "scraping) and data piping (Hadoop and Spark).\n",
    "Other go-to languages for machine learning include C and C++. If you’re\n",
    "proficient with C and C++ then it makes sense to stick with what you alreadyknow. C and C++ are the default programming languages for advanced\n",
    "machine learning because they can run directly on a GPU (Graphical\n",
    "Processing Unit). Python needs to be converted first before it can run on a\n",
    "GPU, but we will get to this and what a GPU is later in the chapter.\n",
    "Next, Python users will typically install the following libraries: NumPy,\n",
    "Pandas, and Scikit-learn. NumPy is a free and open-source library that allows\n",
    "you to efficiently load and work with large datasets, including managing\n",
    "matrices.\n",
    "Scikit-learn provides access to a range of popular algorithms, including linear\n",
    "regression, Bayes’ classifier, and support vector machines.\n",
    "Finally, Pandas enables your data to be represented on a virtual\n",
    "spreadsheet that you can control through code. It shares many of the same\n",
    "features as Microsoft Excel in that it allows you to edit data and perform\n",
    "calculations. In fact, the name Pandas derives from the term “panel data,”\n",
    "which refers to its ability to create a series of panels, similar to “sheets” in\n",
    "Excel. Pandas is also ideal for importing and extracting data from CSV files."
   ]
  },
  {
   "cell_type": "markdown",
   "metadata": {},
   "source": [
    "Figure 4: Previewing a table in Jupyter Notebook using Pandas"
   ]
  },
  {
   "cell_type": "markdown",
   "metadata": {},
   "source": [
    "In summary, users can draw on these three libraries to:\n",
    "1) Load and work with a dataset via NumPy.\n",
    "2) Clean up and perform calculations on data, and extract data from CSV files\n",
    "with Pandas.\n",
    "3) Implement algorithms with Scikit-learn.\n",
    "For students seeking alternative programming options (beyond Python, C,\n",
    "and C++), other relevant programming languages for machine learning\n",
    "include R, MATLAB, and Octave.\n",
    "R is a free and open-source programming language optimized formathematical operations, and conducive to building matrices and statistical\n",
    "functions, which are built directly into the language libraries of R. Although\n",
    "R is commonly used for data analytics and data mining, R supports machine\n",
    "learning operations as well.\n",
    "MATLAB and Octave are direct competitors to R. MATLAB is a commercial\n",
    "and propriety programming language. It is strong in regards to solving\n",
    "algebraic equations and is also a quick programming language to learn.\n",
    "MATLAB is widely used in electrical engineering, chemical engineering,\n",
    "civil engineering, and aeronautical engineering. However, computer scientists\n",
    "and computer engineers tend not to rely on MATLAB as heavily and\n",
    "especially in recent times. In machine learning, MATLAB is more often used\n",
    "in academia than in industry. Thus, while you may see MATLAB featured in\n",
    "online courses, and especially on Coursera, this is not to say that it’s\n",
    "commonly used in the wild. If, however, you’re coming from an engineering\n",
    "background, MATLAB is certainly a logical choice.\n",
    "Lastly, Octave is essentially a free version of MATLAB developed in\n",
    "response to MATLAB by the open-source community."
   ]
  },
  {
   "cell_type": "markdown",
   "metadata": {},
   "source": [
    "Compartment 3: Algorithms\n",
    "Now that the machine learning environment is set up and you’ve chosen your\n",
    "programming language and libraries, you can next import your data directly\n",
    "from a CSV file. You can find hundreds of interesting datasets in CSV format\n",
    "from kaggle.com. After registering as a member of their platform, you can\n",
    "download a dataset of your choice. Best of all, Kaggle datasets are free and\n",
    "there is no cost to register as a user.\n",
    "The dataset will download directly to your computer as a CSV file, which\n",
    "means you can use Microsoft Excel to open and even perform basic\n",
    "algorithms such as linear regression on your dataset.\n",
    "Next is the third and final compartment that stores the algorithms. Beginners\n",
    "will typically start off by using simple supervised learning algorithms such as\n",
    "linear regression, logistic regression, decision trees, and k-nearest neighbors.\n",
    "Beginners are also likely to apply unsupervised learning in the form of k-\n",
    "means clustering and descending dimension algorithms."
   ]
  },
  {
   "cell_type": "markdown",
   "metadata": {},
   "source": [
    "Visualization\n",
    "No matter how impactful and insightful your data discoveries are, you need away to effectively communicate the results to relevant decision-makers. This\n",
    "is where data visualization, a highly effective medium to communicate data\n",
    "findings to a general audience, comes in handy. The visual message conveyed\n",
    "through graphs, scatterplots, box plots, and the representation of numbers in\n",
    "shapes makes for quick and easy storytelling.\n",
    "In general, the less informed your audience is, the more important it is to\n",
    "visualize your findings. Conversely, if your audience is knowledgeable about\n",
    "the topic, additional details and technical terms can be used to supplement\n",
    "visual elements.\n",
    "To visualize your results you can draw on Tableau or a Python library such as\n",
    "Seaborn, which are stored in the second compartment of the toolbox."
   ]
  },
  {
   "cell_type": "markdown",
   "metadata": {},
   "source": [
    "Advanced Toolbox\n",
    "We have so far examined the toolbox for a typical beginner, but what about\n",
    "an advanced user? What would their toolbox look like? While it may take\n",
    "some time before you get to work with the advanced toolkit, it doesn’t hurt to\n",
    "have a sneak peek.\n",
    "The toolbox for an advanced learner resembles the beginner’s toolbox but\n",
    "naturally comes with a broader spectrum of tools and, of course, data. One of\n",
    "the biggest differences between a beginner and an advanced learner is the size\n",
    "of the data they manage and operate. Beginners naturally start by working\n",
    "with small datasets that are easy to manage and which can be downloaded\n",
    "directly to one’s desktop as a simple CSV file. Advanced learners, though,\n",
    "will be eager to tackle massive datasets, well in the vicinity of big data."
   ]
  },
  {
   "cell_type": "markdown",
   "metadata": {},
   "source": [
    "Compartment 1: Big Data\n",
    "Big data is used to describe a dataset that, due to its value, variety, volume,\n",
    "and velocity, defies conventional methods of processing and would be\n",
    "impossible for a human to process without the assistance of an advanced\n",
    "machine. Big data does not have an exact definition in terms of size or the\n",
    "total number of rows and columns. At the moment, petabytes qualify as big\n",
    "data, but datasets are becoming increasingly larger as we find new ways to\n",
    "efficiently collect and store data at low cost. And with big data also comes\n",
    "greater noise and complicated data structures. A huge part, therefore, of\n",
    "working with big data is scrubbing: the process of refining your dataset\n",
    "before building your model, which will be covered in the next chapter."
   ]
  },
  {
   "cell_type": "markdown",
   "metadata": {},
   "source": [
    "Compartment 2: Infrastructure\n",
    "After scrubbing the dataset, the next step is to pull out your machine learning\n",
    "equipment. In terms of tools, there are no real surprises. Advanced learners\n",
    "are still using the same machine learning libraries, programming languages,\n",
    "and programming environments as beginners.\n",
    "However, given that advanced learners are now dealing with up to petabytes\n",
    "of data, robust infrastructure is required. Instead of relying on the CPU of a\n",
    "personal computer, advanced students typically turn to distributed computing\n",
    "and a cloud provider such as Amazon Web Services (AWS) to run their data\n",
    "processing on what is known as a Graphical Processing Unit (GPU) instance.GPU chips were originally added to PC motherboards and video consoles\n",
    "such as the PlayStation 2 and the Xbox for gaming purposes. They were\n",
    "developed to accelerate the creation of images with millions of pixels whose\n",
    "frames needed to be constantly recalculated to display output in less than a\n",
    "second. By 2005, GPU chips were produced in such large quantities that their\n",
    "price had dropped dramatically and they’d essentially matured into a\n",
    "commodity. Although highly popular in the video game industry, the\n",
    "application of such computer chips in the space of machine learning was not\n",
    "fully understood or realized until recently.\n",
    "In his 2016 novel, The Inevitable: Understanding the 12 Technological\n",
    "Forces That Will Shape Our Future, Founding Executive Editor of Wired\n",
    "Magazine, Kevin Kelly, explains that in 2009, Andrew Ng and a team at\n",
    "Stanford University discovered how to link inexpensive GPU clusters to run\n",
    "neural networks consisting of hundreds of millions of node connections.\n",
    "“Traditional processors required several weeks to calculate all the cascading\n",
    "possibilities in a neural net with one hundred million parameters. Ng found\n",
    "that a cluster of GPUs could accomplish the same thing in a day.”\n",
    "As a specialized parallel computing chip, GPU instances are able to perform\n",
    "many more floating point operations per second than a CPU, allowing for\n",
    "much faster solutions with linear algebra and statistics than with a CPU.\n",
    "It is important to note that C and C++ are the preferred languages to directly\n",
    "edit and perform mathematical operations on the GPU. However, Python can\n",
    "also be used and converted into C in combination with TensorFlow from\n",
    "Google.\n",
    "Although it’s possible to run TensorFlow on the CPU, you can gain up to\n",
    "about 1,000x in performance using the GPU. Unfortunately for Mac users,\n",
    "TensorFlow is only compatible with the Nvidia GPU card, which is no longer\n",
    "available with Mac OS X. Mac users can still run TensorFlow on their CPU\n",
    "but will need to engineer a patch/external driver or run their workload on the\n",
    "cloud to access GPU. Amazon Web Services, Microsoft Azure, Alibaba\n",
    "Cloud, Google Cloud Platform, and other cloud providers offer pay-as-you-\n",
    "go GPU resources, which may start off free through a free trial program.\n",
    "Google Cloud Platform is currently regarded as a leading option for GPU\n",
    "resources based on performance and pricing. In 2016, Google also announced\n",
    "that it would publicly release a Tensor Processing Unit designed specifically\n",
    "for running TensorFlow, which is already used internally at Google."
   ]
  },
  {
   "cell_type": "markdown",
   "metadata": {},
   "source": [
    "Compartment 3: Advanced Algorithms\n",
    "To round out this chapter, let’s have a look at the third compartment of the\n",
    "advanced toolbox containing machine learning algorithms.\n",
    "To analyze large datasets, advanced learners work with a plethora of\n",
    "advanced algorithms including Markov models, support vector machines, and\n",
    "Q-learning, as well as a series of simple algorithms like those found in the\n",
    "beginner’s toolbox. But the algorithm family they’re most likely to use is\n",
    "neural networks (introduced in Chapter 10), which comes with its own\n",
    "selection of advanced machine learning libraries.\n",
    "While Scikit-learn offers a range of popular shallow algorithms, TensorFlow\n",
    "is the machine learning library of choice for deep learning/neural networks as\n",
    "it supports numerous advanced techniques including automatic calculus for\n",
    "back-propagation/gradient descent. Due to the depth of resources,\n",
    "documentation, and jobs available with TensorFlow, it is the obvious\n",
    "framework to learn today.\n",
    "Popular alternative neural network libraries include Torch, Caffe, and the\n",
    "fast-growing Keras. Written in Python, Keras is an open-source deep learning\n",
    "library that runs on top of TensorFlow, Theano, and other frameworks, and\n",
    "allows users to perform fast experimentation in fewer lines of code. Like a\n",
    "WordPress website theme, Keras is minimal, modular, and quick to get up\n",
    "and running but is less flexible compared with TensorFlow and other\n",
    "libraries. Users will sometimes utilize Keras to validate their model before\n",
    "switching to TensorFlow to build a more customized model.\n",
    "Caffe is also open-source and commonly used to develop deep learning\n",
    "architectures for image classification and image segmentation. Caffe is\n",
    "written in C++ but has a Python interface that also supports GPU-based\n",
    "acceleration using the Nvidia CuDNN.\n",
    "Released in 2002, Torch is well established in the deep learning community.\n",
    "It is open-source and based on the programming language Lua. Torch offers a\n",
    "range of algorithms for deep learning and is used within Facebook, Google,\n",
    "Twitter, NYU, IDIAP, Purdue as well as other companies and research labs.\n",
    "Until recently, Theano was another competitor to TensorFlow but as of late\n",
    "2017, contributions to the framework have officially ceased.\n",
    "Sometimes used beside neural networks is another advanced approach called\n",
    "ensemble modeling. This technique essentially combines algorithms and\n",
    "statistical techniques to create a unified model, which we will explore further\n",
    "in Chapter 12."
   ]
  }
 ],
 "metadata": {
  "language_info": {
   "name": "python"
  }
 },
 "nbformat": 4,
 "nbformat_minor": 2
}
