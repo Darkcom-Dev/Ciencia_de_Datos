{
 "cells": [
  {
   "cell_type": "code",
   "execution_count": 15,
   "metadata": {},
   "outputs": [],
   "source": [
    "import importacion as imo"
   ]
  },
  {
   "cell_type": "code",
   "execution_count": 16,
   "metadata": {},
   "outputs": [
    {
     "ename": "AttributeError",
     "evalue": "module 'importacion' has no attribute 'Neurona'",
     "output_type": "error",
     "traceback": [
      "\u001b[0;31m---------------------------------------------------------------------------\u001b[0m",
      "\u001b[0;31mAttributeError\u001b[0m                            Traceback (most recent call last)",
      "Cell \u001b[0;32mIn[16], line 1\u001b[0m\n\u001b[0;32m----> 1\u001b[0m hola \u001b[38;5;241m=\u001b[39m \u001b[43mimo\u001b[49m\u001b[38;5;241;43m.\u001b[39;49m\u001b[43mNeurona\u001b[49m(\u001b[38;5;241m111\u001b[39m)\n",
      "\u001b[0;31mAttributeError\u001b[0m: module 'importacion' has no attribute 'Neurona'"
     ]
    }
   ],
   "source": [
    "hola = imo.Neurona(111)"
   ]
  }
 ],
 "metadata": {
  "kernelspec": {
   "display_name": "venv",
   "language": "python",
   "name": "python3"
  },
  "language_info": {
   "codemirror_mode": {
    "name": "ipython",
    "version": 3
   },
   "file_extension": ".py",
   "mimetype": "text/x-python",
   "name": "python",
   "nbconvert_exporter": "python",
   "pygments_lexer": "ipython3",
   "version": "3.9.2"
  }
 },
 "nbformat": 4,
 "nbformat_minor": 2
}
